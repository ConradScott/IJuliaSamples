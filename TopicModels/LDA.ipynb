{
 "cells": [
  {
   "cell_type": "markdown",
   "metadata": {},
   "source": [
    "$$\n",
    "\\newcommand{\\cond}{{\\mkern+2mu} \\vert {\\mkern+2mu}}\n",
    "\\newcommand{\\SetDiff}{\\mathrel{\\backslash}}\n",
    "\\DeclareMathOperator{\\BetaFunc}{Β}\n",
    "\\DeclareMathOperator{\\GammaFunc}{Γ}\n",
    "\\DeclareMathOperator{\\prob}{p}\n",
    "\\DeclareMathOperator{\\dcategorical}{Categorical}\n",
    "\\DeclareMathOperator{\\dcategorical}{Categorical}\n",
    "\\DeclareMathOperator{\\ddirichlet}{Dirichlet}\n",
    "$$"
   ]
  },
  {
   "cell_type": "markdown",
   "metadata": {},
   "source": [
    "# Collapsed Gibbs Sampling for LDA"
   ]
  },
  {
   "cell_type": "markdown",
   "metadata": {},
   "source": [
    "## Notation"
   ]
  },
  {
   "cell_type": "markdown",
   "metadata": {},
   "source": [
    "* $\\ddirichlet_N(\\alpha)$ is the symmetric $N$–dimensional Dirichlet distribution, all of whose $N$ parameters are $\\alpha$\n",
    "\n",
    "* $\\dcategorical_N(\\alpha)$ is the (asymmetric) $N$–dimensional categorical distribution whose $N$ parameters are given by the vector $\\alpha$\n",
    "\n",
    "* $\\BetaFunc_N(\\alpha)$, with a vector argument, is the (asymmetric) $N$–dimensional beta function defined by\n",
    "\n",
    "$$\\BetaFunc_N(\\alpha) = \\frac{\\prod_n \\GammaFunc(\\alpha_n)}{\\GammaFunc(\\sum_n \\alpha_n)}$$\n",
    "\n",
    "* $\\BetaFunc_N(\\alpha)$, with a scalar argument, is the symmetric $N$–dimensional beta function defined by\n",
    "\n",
    "$$\\BetaFunc_N(\\alpha) = \\frac{\\prod_n \\GammaFunc(\\alpha)}{\\GammaFunc(\\sum_n \\alpha)} = \\frac{\\GammaFunc^N(\\alpha)}{\\GammaFunc(N\\alpha)}$$"
   ]
  },
  {
   "cell_type": "markdown",
   "metadata": {},
   "source": [
    "## Glossary"
   ]
  },
  {
   "cell_type": "markdown",
   "metadata": {},
   "source": [
    "* $D$ documents\n",
    "\n",
    "* $K$ topics\n",
    "\n",
    "* $W$ words in the vocabulary\n",
    "\n",
    "* $\\theta_d$ is a per document $K$–vector of probabilities over the topics\n",
    "\n",
    "* $\\phi_k$ is a per topic $W$–vector of probabilities over the words in the vocabulary\n",
    "\n",
    "* $z_{id}$ are per document word unobserved latent variables giving the topic assignments\n",
    "\n",
    "* $x_{id}$ are per document word observed variables giving the vocabulary choices\n",
    "\n",
    "* $Z$ is the collection of all the latent topic assignment variables\n",
    "\n",
    "* $X$ is the collection of all the observed vocabulary assignment variables\n",
    "\n",
    "* $\\Theta$ is the collection of per document topic distributions\n",
    "\n",
    "* $\\Phi$ is the collection of per topic word distributions\n",
    "\n",
    "* $Z^{\\SetDiff id}$ is the collection of all the latent topic assignment variables excepting that for topic assignment $z_{id}$\n",
    "\n",
    "* $\\Theta^{\\SetDiff d}$ is the collection of per document topic distributions excepting that for document $d$\n",
    "\n",
    "* $\\Phi^{\\SetDiff k}$ is the collection of per topic word distributions excepting that for topic $k$"
   ]
  },
  {
   "cell_type": "markdown",
   "metadata": {},
   "source": [
    "## Statistics"
   ]
  },
  {
   "cell_type": "markdown",
   "metadata": {},
   "source": [
    "* $N_d$, the number of instances of words in document $d$\n",
    "\n",
    "* $A_{dk}$, the number of $z_{id}$ variables assigned to topic $k$ in document $d$\n",
    "\n",
    "$$\n",
    "A_{dk} = \\sum_{i=1}^{N_d} \\delta(z_{id} = k)\n",
    "$$\n",
    "\n",
    "* $B_{kw}$, the number of times an instance of word $w$ is assigned to topic $k$\n",
    "\n",
    "$$\n",
    "B_{kw} = \\sum_{d=1}^D \\sum_{i=1}^{N_d} \\delta(x_{id} = w) \\delta(z_{id} = k)\n",
    "$$\n",
    "\n",
    "* $A_{dk}^{\\SetDiff id}$, the $A_{dk}$ statistic taken over all variables except $z_{id}$\n",
    "\n",
    "$$\n",
    "\\begin{align}\n",
    "A_{dk}^{\\SetDiff id}\n",
    "    &= \\sum_{i\\prime \\ne i} \\delta(z_{i\\prime d} = k) \\\\\n",
    "    &= A_{dk} - \\delta(z_{id} = k)\n",
    "\\end{align}\n",
    "$$\n",
    "\n",
    "* $B_{kw}^{\\SetDiff id}$, the $B_{kw}$ statistic taken over all variables except $z_{id}$\n",
    "\n",
    "$$\n",
    "\\begin{align}\n",
    "B_{kw}^{\\SetDiff id}\n",
    "    &= B_{kw} - \\delta(x_{id} = w) \\delta(z_{id} = k)\n",
    "\\end{align}\n",
    "$$\n",
    "\n",
    "* $M_k$, the total number of instances of words assigned to topic k, and the matching statistic, $M_k^{\\SetDiff id}$\n",
    "\n",
    "$$\n",
    "\\begin{align}\n",
    "M_k &= \\sum_{w=1}^W B_{kw} \\\\\n",
    "M_k^{\\SetDiff id} &= \\sum_{w=1}^W B_{kw}^{\\SetDiff id}\n",
    "\\end{align}\n",
    "$$"
   ]
  },
  {
   "cell_type": "markdown",
   "metadata": {},
   "source": [
    "## Probabilities"
   ]
  },
  {
   "cell_type": "markdown",
   "metadata": {},
   "source": [
    "The LDA model is then given by\n",
    "\n",
    "$$\n",
    "\\begin{align}\n",
    "\\theta_d \\cond \\alpha &\\sim \\ddirichlet_K(\\alpha) \\\\\n",
    "\\phi_k \\cond \\beta &\\sim \\ddirichlet_W(\\beta) \\\\\n",
    "z_{id} \\cond \\theta_d &\\sim \\dcategorical_K(\\theta_d) \\\\\n",
    "x_{id} \\cond z_{id}, \\phi_{z_{id}} &\\sim \\dcategorical_W(\\phi_{z_{id}})\n",
    "\\end{align}\n",
    "$$"
   ]
  },
  {
   "cell_type": "markdown",
   "metadata": {},
   "source": [
    "Assuming that the only dependencies are those given above, the joint probability of\n",
    "the latent and observed variables along with the parameters is given by\n",
    "\n",
    "$$\n",
    "\\prob(Z, X, \\Theta, \\Phi) = \\frac{1}{\\BetaFunc_K^D(\\alpha)} \\prod_{d=1}^D \\prod_{k=1}^K \\theta_{dk}^{A_{dk} + \\alpha - 1} \\cdot \\frac{1}{\\BetaFunc_W^K(\\beta)} \\prod_{k=1}^K \\prod_{w=1}^W \\phi_{kw}^{B_{kw}+ \\beta - 1}.\n",
    "$$"
   ]
  },
  {
   "cell_type": "markdown",
   "metadata": {},
   "source": [
    "### Probabilities required for Gibbs sampling"
   ]
  },
  {
   "cell_type": "markdown",
   "metadata": {},
   "source": [
    "The required conditional probabilites for this model are\n",
    "\n",
    "$$\n",
    "\\begin{align}\n",
    "\\prob(z_{id} \\cond Z^{\\SetDiff id}, X, \\Theta, \\Phi) &= \\frac{\\theta_{d,z_{id}} \\phi_{z_{id}, x_{id}}}{\\sum_{k=1}^K \\theta_{dk} \\phi_{k,x_{id}}} \\\\\n",
    "\\theta_d \\cond Z, X, \\Theta^{\\SetDiff d}, \\Phi &\\sim \\ddirichlet_K(A_d + \\alpha) \\\\\n",
    "\\phi_k \\cond Z, X, \\Theta, \\Phi^{\\SetDiff k} &\\sim \\ddirichlet_W(B_k + \\beta)\n",
    "\\end{align}\n",
    "$$\n",
    "\n",
    "where $A_d = (A_{d1}, \\dotsc, A_{dK})$ and $B_k = (B_{k1}, \\dotsc, B_{kW})$."
   ]
  },
  {
   "cell_type": "markdown",
   "metadata": {},
   "source": [
    "## Probabilities required for collapsed Gibbs sampling"
   ]
  },
  {
   "cell_type": "markdown",
   "metadata": {},
   "source": [
    "We need to integrate out the $\\theta_d$'s and the $\\phi_k$'s from the model's joint probability.\n",
    "This gives us\n",
    "\n",
    "$$\n",
    "\\prob(Z, X) = \\prod_{d=1}^D \\frac{\\BetaFunc_K(A_d + \\alpha)}{\\BetaFunc_K(\\alpha)} \\cdot \\prod_{k=1}^K \\frac{\\BetaFunc_W(B_k + \\beta)}{\\BetaFunc_W(\\beta)}\n",
    "$$"
   ]
  },
  {
   "cell_type": "markdown",
   "metadata": {},
   "source": [
    "Then the conditional probability from which we need to sample is\n",
    "\n",
    "$$\n",
    "\\prob(z_{id} \\cond Z^{\\SetDiff id}, X)\n",
    "    \\propto \\frac{\n",
    "        \\left( A_{d,z_{id}}^{\\SetDiff id} + \\alpha \\right)\n",
    "        \\left( B_{z_{id},x_{id}}^{\\SetDiff id} + \\beta \\right)\n",
    "    }{\n",
    "        M_{z_{id}}^{\\SetDiff id} + W\\beta\n",
    "    }\n",
    "$$\n",
    "\n",
    "Since this is a discrete distribution over $k = 1, \\dotsc, K$ it is easy to normalise as required, either explicitly or implicitly."
   ]
  }
 ],
 "metadata": {
  "kernelspec": {
   "display_name": "Julia 0.4.2",
   "language": "julia",
   "name": "julia-0.4"
  },
  "language_info": {
   "file_extension": ".jl",
   "mimetype": "application/julia",
   "name": "julia",
   "version": "0.4.2"
  }
 },
 "nbformat": 4,
 "nbformat_minor": 0
}
