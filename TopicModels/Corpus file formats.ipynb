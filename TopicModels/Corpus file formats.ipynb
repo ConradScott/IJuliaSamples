{
 "cells": [
  {
   "cell_type": "markdown",
   "metadata": {},
   "source": [
    "# General Notes"
   ]
  },
  {
   "cell_type": "markdown",
   "metadata": {},
   "source": [
    "* Any function that reads text should accept a pre-existing vocabulary to specify the token to id mappings; if no vocabulary is provided it should create one from scratch.\n",
    "What should happen if a vocabulary is provided but it does not contain entries for all tokens in the input? Have extensible and non-extensible vocabulary types? Have a separate option to control this behaviour?\n",
    "If the vocabulary is not extended, the parser can either fail or succeeds but discards the unmapped tokens. Again, how is this controlled or decided?\n",
    "\n",
    "* Stop word processing also changes vocabularies, so we need to be able to filter on a corpus to reduce it to a narrower vocabulary. This could be used to defer a decision on how to handle a pre-provided vocabulary when reading: The resulting corpus contains a vocabulary that may be larger than that provided, but all words common to both are encoded with the same index. The resulting corpus can then be filtered back down to the original vocabulary if desired."
   ]
  },
  {
   "cell_type": "markdown",
   "metadata": {},
   "source": [
    "# List-of-Words format, from [GibbsLDA++: A C/C++ Implementation of Latent Dirichlet Allocation](http://gibbslda.sourceforge.net/)"
   ]
  },
  {
   "cell_type": "markdown",
   "metadata": {},
   "source": [
    "[http://gibbslda.sourceforge.net/#3.2_Input_Data_Format](http://gibbslda.sourceforge.net/#3.2_Input_Data_Format)\n",
    "\n",
    "Both data for training/estimating the model and new data (i.e., previously unseen data) have the same format as follows:\n",
    "\n",
    "    [M]\n",
    "    [document1]\n",
    "    [document2]\n",
    "    ...\n",
    "    [documentM]\n",
    "\n",
    "in which the first line is the total number for documents `[M]`. Each line after that is one document. `[documenti]` is the `i`th document of the dataset that consists of a list of `Ni` words/terms.\n",
    "\n",
    "    [documenti] = [wordi1] [wordi2] ... [wordiNi]\n",
    "\n",
    "in which all `[wordij]` (`i=1..M`, `j=1..Ni`) are text strings and they are separated by the blank character."
   ]
  },
  {
   "cell_type": "markdown",
   "metadata": {},
   "source": [
    "# Blei's LDA-C format, from [http://www.cs.princeton.edu/~blei/lda-c](http://www.cs.princeton.edu/~blei/lda-c)"
   ]
  },
  {
   "cell_type": "markdown",
   "metadata": {},
   "source": [
    "[http://www.cs.princeton.edu/~blei/lda-c/readme.txt](http://www.cs.princeton.edu/~blei/lda-c/readme.txt)\n",
    "\n",
    "Under LDA, the words of each document are assumed exchangeable.  Thus,\n",
    "each document is succinctly represented as a sparse vector of word\n",
    "counts. The data is a file where each line is of the form:\n",
    "\n",
    "     [M] [term_1]:[count] [term_2]:[count] ...  [term_N]:[count]\n",
    "\n",
    "where `[M]` is the number of unique terms in the document, and the\n",
    "`[count]` associated with each term is how many times that term appeared\n",
    "in the document.  Note that `[term_1]` is an integer which indexes the\n",
    "term; it is not a string."
   ]
  },
  {
   "cell_type": "markdown",
   "metadata": {},
   "source": [
    "# UCI Bag of Words format, from [https://archive.ics.uci.edu/ml/datasets/Bag+of+Words](https://archive.ics.uci.edu/ml/datasets/Bag+of+Words)"
   ]
  },
  {
   "cell_type": "markdown",
   "metadata": {},
   "source": [
    "The format of the `docword.*.txt` file is 3 header lines, followed by NNZ triples:\n",
    "\n",
    "    D\n",
    "    W\n",
    "    NNZ\n",
    "    docID wordID count\n",
    "    docID wordID count\n",
    "    docID wordID count\n",
    "    docID wordID count\n",
    "    ...\n",
    "    docID wordID count\n",
    "    docID wordID count\n",
    "    docID wordID count\n",
    "\n",
    "The format of the `vocab.*.txt` file is line contains `wordID=n`."
   ]
  }
 ],
 "metadata": {
  "kernelspec": {
   "display_name": "Julia 0.4.3-pre",
   "language": "julia",
   "name": "julia-0.4"
  },
  "language_info": {
   "file_extension": ".jl",
   "mimetype": "application/julia",
   "name": "julia",
   "version": "0.4.3"
  }
 },
 "nbformat": 4,
 "nbformat_minor": 0
}
