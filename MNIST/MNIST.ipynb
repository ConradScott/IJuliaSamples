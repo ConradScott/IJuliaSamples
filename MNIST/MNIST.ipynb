{
 "cells": [
  {
   "cell_type": "markdown",
   "metadata": {},
   "source": [
    "# MNIST\n",
    "\n",
    "Functions to load MNIST data."
   ]
  },
  {
   "cell_type": "code",
   "execution_count": 1,
   "metadata": {
    "collapsed": true
   },
   "outputs": [],
   "source": [
    "using FixedPointNumbers;"
   ]
  },
  {
   "cell_type": "markdown",
   "metadata": {},
   "source": [
    "# File formats\n",
    "\n",
    "The following is taken from [THE MNIST DATABASE\n",
    "of handwritten digits](http://yann.lecun.org/exdb/mnist/index.html):\n",
    "\n",
    "The data is stored in a very simple file format designed for storing vectors and multidimensional matrices. General info on this format is given at the end of this page, but you don't need to read that to use the data files.\n",
    "\n",
    "All the integers in the files are stored in the MSB first (high endian) format used by most non-Intel processors. Users of Intel processors and other low-endian machines must flip the bytes of the header.\n",
    "\n",
    "There are 4 files:\n",
    "\n",
    "* train-images-idx3-ubyte: training set images\n",
    "* train-labels-idx1-ubyte: training set labels\n",
    "* t10k-images-idx3-ubyte:  test set images\n",
    "* t10k-labels-idx1-ubyte:  test set labels\n",
    "\n",
    "The training set contains 60000 examples, and the test set 10000 examples.\n",
    "\n",
    "The first 5000 examples of the test set are taken from the original NIST training set. The last 5000 are taken from the original NIST test set. The first 5000 are cleaner and easier than the last 5000.\n",
    "\n",
    "    TRAINING SET LABEL FILE (train-labels-idx1-ubyte):\n",
    "    [offset] [type]          [value]          [description]\n",
    "    0000     32 bit integer  0x00000801(2049) magic number (MSB first)\n",
    "    0004     32 bit integer  60000            number of items\n",
    "    0008     unsigned byte   ??               label\n",
    "    0009     unsigned byte   ??               label\n",
    "    …\n",
    "    xxxx     unsigned byte   ??               label\n",
    "\n",
    "The labels values are 0 to 9.\n",
    "\n",
    "    TRAINING SET IMAGE FILE (train-images-idx3-ubyte):\n",
    "    [offset] [type]          [value]          [description]\n",
    "    0000     32 bit integer  0x00000803(2051) magic number\n",
    "    0004     32 bit integer  60000            number of images\n",
    "    0008     32 bit integer  28               number of rows\n",
    "    0012     32 bit integer  28               number of columns\n",
    "    0016     unsigned byte   ??               pixel\n",
    "    0017     unsigned byte   ??               pixel\n",
    "    …\n",
    "    xxxx     unsigned byte   ??               pixel\n",
    "\n",
    "Pixels are organized row-wise. Pixel values are 0 to 255. 0 means background (white), 255 means foreground (black).\n",
    "\n",
    "    TEST SET LABEL FILE (t10k-labels-idx1-ubyte):\n",
    "    [offset] [type]          [value]          [description]\n",
    "    0000     32 bit integer  0x00000801(2049) magic number (MSB first)\n",
    "    0004     32 bit integer  10000            number of items\n",
    "    0008     unsigned byte   ??               label\n",
    "    0009     unsigned byte   ??               label\n",
    "    …\n",
    "    xxxx     unsigned byte   ??               label\n",
    "\n",
    "The labels values are 0 to 9.\n",
    "\n",
    "    TEST SET IMAGE FILE (t10k-images-idx3-ubyte):\n",
    "    [offset] [type]          [value]          [description]\n",
    "    0000     32 bit integer  0x00000803(2051) magic number\n",
    "    0004     32 bit integer  10000            number of images\n",
    "    0008     32 bit integer  28               number of rows\n",
    "    0012     32 bit integer  28               number of columns\n",
    "    0016     unsigned byte   ??               pixel\n",
    "    0017     unsigned byte   ??               pixel\n",
    "    …\n",
    "    xxxx     unsigned byte   ??               pixel\n",
    "\n",
    "Pixels are organized row-wise. Pixel values are 0 to 255. 0 means background (white), 255 means foreground (black)."
   ]
  },
  {
   "cell_type": "markdown",
   "metadata": {},
   "source": [
    "## Magic numbers"
   ]
  },
  {
   "cell_type": "code",
   "execution_count": 2,
   "metadata": {
    "collapsed": true
   },
   "outputs": [],
   "source": [
    "const MNIST_LABELS_MAGIC = 0x00000801;\n",
    "const MNIST_IMAGES_MAGIC = 0x00000803;"
   ]
  },
  {
   "cell_type": "markdown",
   "metadata": {},
   "source": [
    "## Read functions"
   ]
  },
  {
   "cell_type": "markdown",
   "metadata": {},
   "source": [
    "### MNIST_read_labels\n",
    "\n",
    "This function returns a vector of `Int8`, in the range 0 to 9."
   ]
  },
  {
   "cell_type": "code",
   "execution_count": 3,
   "metadata": {
    "collapsed": true
   },
   "outputs": [],
   "source": [
    "function MNIST_read_labels(filename :: AbstractString)\n",
    "    open(filename) do io\n",
    "        magic = ntoh(read(io, UInt32))\n",
    "\n",
    "        if magic != MNIST_LABELS_MAGIC\n",
    "            error(\"File \\\"$filename\\\" contains the wrong magic number for an MNIST labels file, $magic\")\n",
    "        end\n",
    "\n",
    "        n = ntoh(read(io, UInt32))\n",
    "\n",
    "        return read(io, Int8, n)\n",
    "    end\n",
    "end;"
   ]
  },
  {
   "cell_type": "markdown",
   "metadata": {},
   "source": [
    "### MNIST_read_images\n",
    "\n",
    "This function returns an array of `UFixed8`, where each row is the pixels for a given image, arranged row-wise.\n",
    "\n",
    "The pixel coding is also inverted from the MNIST file, as in Julia, 0 is interpreted as black, not white.\n",
    "\n",
    "Finally, an intercept column of ones is prepended to the images."
   ]
  },
  {
   "cell_type": "code",
   "execution_count": 4,
   "metadata": {
    "collapsed": true
   },
   "outputs": [],
   "source": [
    "function MNIST_read_images(filename :: AbstractString)\n",
    "    open(filename) do io\n",
    "        magic = ntoh(read(io, UInt32))\n",
    "\n",
    "        if magic != MNIST_IMAGES_MAGIC\n",
    "            error(\"File \\\"$filename\\\" contains the wrong magic number for an MNIST images file, $magic\")\n",
    "        end\n",
    "\n",
    "        n = ntoh(read(io, UInt32))\n",
    "\n",
    "        rows = Int(ntoh(read(io, UInt32)))\n",
    "        cols = Int(ntoh(read(io, UInt32)))\n",
    "\n",
    "        images = Array{UFixed8}(n, 1 + rows * cols)\n",
    "\n",
    "        for i in 1:n\n",
    "            images[i, 1] = 1\n",
    "            images[i, 2:end] = UFixed8(1) - vec(read(io, UFixed8, (cols, rows)))\n",
    "        end\n",
    "\n",
    "        return (cols, rows, images)\n",
    "    end\n",
    "end;"
   ]
  }
 ],
 "metadata": {
  "kernelspec": {
   "display_name": "Julia 0.4.3-pre",
   "language": "julia",
   "name": "julia-0.4"
  },
  "language_info": {
   "file_extension": ".jl",
   "mimetype": "application/julia",
   "name": "julia",
   "version": "0.5.0"
  }
 },
 "nbformat": 4,
 "nbformat_minor": 0
}
