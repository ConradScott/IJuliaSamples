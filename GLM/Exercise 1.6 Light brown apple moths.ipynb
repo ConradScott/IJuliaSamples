{
 "cells": [
  {
   "cell_type": "code",
   "execution_count": 1,
   "metadata": {
    "collapsed": false
   },
   "outputs": [
    {
     "name": "stderr",
     "output_type": "stream",
     "text": [
      "WARNING: Base.FileOffset is deprecated, use Int64 instead.\n",
      "  likely near In[1]:3\n",
      "in jl_IO_seek at /home/scottc/.julia/v0.5/PyCall/src/io.jl\n",
      "WARNING: Base.FileOffset is deprecated, use Int64 instead.\n",
      "  likely near In[1]:3\n",
      "in jl_IO_seek at /home/scottc/.julia/v0.5/PyCall/src/io.jl\n",
      "WARNING: Base.FileOffset is deprecated, use Int64 instead.\n",
      "  likely near In[1]:3\n",
      "in jl_IO_seek at /home/scottc/.julia/v0.5/PyCall/src/io.jl\n"
     ]
    }
   ],
   "source": [
    "using Distributions\n",
    "using Optim\n",
    "using PyPlot;"
   ]
  },
  {
   "cell_type": "markdown",
   "metadata": {},
   "source": [
    "### Exercise 1.6 (pp. 17–18)\n",
    "\n",
    "The male and female progeny of light brown apple moths, females in the first column, males in the second for sixteen groups of progeny."
   ]
  },
  {
   "cell_type": "code",
   "execution_count": 2,
   "metadata": {
    "collapsed": false
   },
   "outputs": [],
   "source": [
    "Y = [\n",
    "    18 11;\n",
    "    31 22;\n",
    "    34 27;\n",
    "    33 29;\n",
    "    27 24;\n",
    "    33 29;\n",
    "    28 25;\n",
    "    23 26;\n",
    "    33 38;\n",
    "    12 14;\n",
    "    19 23;\n",
    "    25 31;\n",
    "    14 20;\n",
    "    4 6;\n",
    "    22 34;\n",
    "    7 12\n",
    "    ];"
   ]
  },
  {
   "cell_type": "markdown",
   "metadata": {},
   "source": [
    "(a) The proportion of females in each of the groups."
   ]
  },
  {
   "cell_type": "code",
   "execution_count": 3,
   "metadata": {
    "collapsed": false
   },
   "outputs": [
    {
     "data": {
      "text/plain": [
       "16x1 Array{Float64,2}:\n",
       " 0.62069 \n",
       " 0.584906\n",
       " 0.557377\n",
       " 0.532258\n",
       " 0.529412\n",
       " 0.532258\n",
       " 0.528302\n",
       " 0.469388\n",
       " 0.464789\n",
       " 0.461538\n",
       " 0.452381\n",
       " 0.446429\n",
       " 0.411765\n",
       " 0.4     \n",
       " 0.392857\n",
       " 0.368421"
      ]
     },
     "execution_count": 3,
     "metadata": {},
     "output_type": "execute_result"
    }
   ],
   "source": [
    "ProportionOfFemales = Y[:, 1] ./ mapslices(sum, Y, 2)"
   ]
  },
  {
   "cell_type": "markdown",
   "metadata": {},
   "source": [
    "(b) Let $Y_i$ denote the number of females and $n_i$ the number of progency in each group.\n",
    "\n",
    "Suppose the $Y_i$'s are independent random variables each with the Binomial distribution\n",
    "\n",
    "$$p(y_i; \\theta) = \\begin{pmatrix} n_i \\\\ y_i \\end{pmatrix} \\theta^{y_i} (1-\\theta)^{n_i - y_i}.$$"
   ]
  },
  {
   "cell_type": "markdown",
   "metadata": {},
   "source": [
    "The log likelihood function is\n",
    "\n",
    "$$\\ell(\\theta; Y) = \\sum_i \\log \\begin{pmatrix} n_i \\\\ y_i \\end{pmatrix} + \\sum_i y_i \\log \\theta + \\sum_i (n_i - y_i) \\log (1-\\theta).$$"
   ]
  },
  {
   "cell_type": "markdown",
   "metadata": {},
   "source": [
    "Differentiating wrt $\\theta$, we have\n",
    "\n",
    "$$\\frac{d}{d\\theta}\\ell(\\theta; Y) = \\frac{\\sum_i y_i}{\\theta} - \\frac{\\sum_i n_i - \\sum_i y_i}{1-\\theta}.$$"
   ]
  },
  {
   "cell_type": "markdown",
   "metadata": {},
   "source": [
    "Setting the derivative equal to zero and solving for $\\theta$ we have that\n",
    "\n",
    "$$ \\sum_i y_i (1-\\theta) - \\sum_i (n_i - y_i)\\theta = 0 $$\n",
    "\n",
    "and so\n",
    "\n",
    "$$ \\theta = \\frac{\\sum_i y_i}{\\sum_i n_i}.$$"
   ]
  },
  {
   "cell_type": "code",
   "execution_count": 4,
   "metadata": {
    "collapsed": false
   },
   "outputs": [
    {
     "data": {
      "text/plain": [
       "0.494550408719346"
      ]
     },
     "execution_count": 4,
     "metadata": {},
     "output_type": "execute_result"
    }
   ],
   "source": [
    "θ = sum(Y[:, 1]) / sum(Y)"
   ]
  },
  {
   "cell_type": "markdown",
   "metadata": {},
   "source": [
    "To solve numerically, we optimise the log likelihood equation as follows. We ignore the constant factor, $\\sum_i \\log \\begin{pmatrix} n_i \\\\ y_i \\end{pmatrix}$."
   ]
  },
  {
   "cell_type": "code",
   "execution_count": 5,
   "metadata": {
    "collapsed": false
   },
   "outputs": [],
   "source": [
    "function l(θ)\n",
    "    sum(Y[:, 1]) * log(θ) + (sum(Y) - sum(Y[:, 1])) * log(1- θ)\n",
    "end;"
   ]
  },
  {
   "cell_type": "code",
   "execution_count": 6,
   "metadata": {
    "collapsed": false
   },
   "outputs": [
    {
     "data": {
      "image/png": "[encoded data removed]",
      "text/plain": [
       "PyPlot.Figure(PyObject <matplotlib.figure.Figure object at 0x7f92ada4bbd0>)"
      ]
     },
     "metadata": {},
     "output_type": "display_data"
    }
   ],
   "source": [
    "x = linspace(0, 1)\n",
    "\n",
    "y = Array{Float64}(size(x))\n",
    "\n",
    "for i in eachindex(x)\n",
    "    y[i] = l(x[i])\n",
    "end\n",
    "\n",
    "p = plot(x, y)\n",
    "xlabel(\"theta\")\n",
    "ylabel(\"l\");"
   ]
  },
  {
   "cell_type": "code",
   "execution_count": 7,
   "metadata": {
    "collapsed": false
   },
   "outputs": [
    {
     "data": {
      "text/plain": [
       "0.49455041400737015"
      ]
     },
     "execution_count": 7,
     "metadata": {},
     "output_type": "execute_result"
    }
   ],
   "source": [
    "θ̂ = optimize((θ) -> -l(θ), 0, 1).minimum"
   ]
  },
  {
   "cell_type": "code",
   "execution_count": 8,
   "metadata": {
    "collapsed": false
   },
   "outputs": [
    {
     "data": {
      "text/plain": [
       "-5.288024129690427e-9"
      ]
     },
     "execution_count": 8,
     "metadata": {},
     "output_type": "execute_result"
    }
   ],
   "source": [
    "θ - θ̂"
   ]
  }
 ],
 "metadata": {
  "kernelspec": {
   "display_name": "Julia 0.4.3-pre",
   "language": "julia",
   "name": "julia-0.4"
  },
  "language_info": {
   "file_extension": ".jl",
   "mimetype": "application/julia",
   "name": "julia",
   "version": "0.5.0"
  }
 },
 "nbformat": 4,
 "nbformat_minor": 0
}
